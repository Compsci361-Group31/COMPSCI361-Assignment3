{
 "cells": [
  {
   "cell_type": "markdown",
   "id": "419276b6",
   "metadata": {},
   "source": [
    "## Task 1: Exploratory Data Analytics\n",
    "### Data Collection"
   ]
  },
  {
   "cell_type": "code",
   "id": "7cbc14b9",
   "metadata": {
    "ExecuteTime": {
     "end_time": "2025-05-28T02:26:47.166730Z",
     "start_time": "2025-05-28T02:26:38.302392Z"
    }
   },
   "source": [
    "import pandas as pd\n",
    "import numpy as np\n",
    "from sklearn.feature_extraction.text import CountVectorizer\n",
    "from matplotlib import pyplot as plt    #For plotting.\n",
    "\n",
    "\n",
    "train_df = pd.read_csv(\"train.csv\")            #Can include stop words here\n",
    "\n",
    "def extract_features(fitting_var):\n",
    "    cv_all_articles = CountVectorizer()\n",
    "    cv_all_articles.fit(fitting_var)\n",
    "    vec = cv_all_articles.transform(fitting_var)\n",
    "    matrix = vec.toarray()              #Each row an article, each column a word.\n",
    "    word_bank = cv_all_articles.get_feature_names_out()\n",
    "    frequencies = matrix.sum(axis=0)    #Each column represents the frequency of a word in our articles\n",
    "    return matrix, word_bank, frequencies\n",
    "\n",
    "\n",
    "\n",
    "\n",
    "# print(matrix)\n",
    "# print(word_bank)\n",
    "# print(frequencies)\n",
    "\n"
   ],
   "outputs": [
    {
     "name": "stderr",
     "output_type": "stream",
     "text": [
      "Matplotlib is building the font cache; this may take a moment.\n"
     ]
    }
   ],
   "execution_count": 3
  },
  {
   "cell_type": "markdown",
   "id": "5ab591c0",
   "metadata": {},
   "source": [
    "### Task 1 A\n",
    "#### Report number of articles, number of extracted features and 5 example articles"
   ]
  },
  {
   "cell_type": "code",
   "id": "9b33e554",
   "metadata": {
    "ExecuteTime": {
     "end_time": "2025-05-28T02:26:52.228410Z",
     "start_time": "2025-05-28T02:26:52.121637Z"
    }
   },
   "source": [
    "# Now get five example articles (Q1 a))\n",
    "\n",
    "whole_matrix, whole_word_bank, whole_frequencies = extract_features(train_df['Text'])\n",
    "\n",
    "print(\"Number of articles: \", whole_matrix.shape[0])\n",
    "print(\"Number of features: \", whole_matrix.shape[1])\n",
    "\n",
    "for i in range(5):\n",
    "    matrix, word_bank, frequencies = extract_features([train_df['Text'][i]])\n",
    "    print(f\"Article: {i+1} has features \\n{word_bank}\\n\\n\")\n",
    "    print(word_bank.size)\n",
    "    \n",
    "    \n",
    "\n",
    "\n",
    "\n"
   ],
   "outputs": [
    {
     "name": "stdout",
     "output_type": "stream",
     "text": [
      "Number of articles:  428\n",
      "Number of features:  13518\n",
      "Article: 1 has features \n",
      "['000' '14' '2003' '25' '29' '45' 'able' 'across' 'activity' 'advisor'\n",
      " 'ageing' 'ago' 'almost' 'alone' 'also' 'although' 'always' 'among'\n",
      " 'analogue' 'another' 'bbc' 'behind' 'better' 'birthdays' 'bjorn' 'bought'\n",
      " 'camera' 'cameras' 'capture' 'change' 'changed' 'chat' 'children' 'chip'\n",
      " 'choice' 'consumer' 'consumers' 'contact' 'contrast' 'convenient' 'could'\n",
      " 'customers' 'depth' 'desire' 'devices' 'diaries' 'diary' 'different'\n",
      " 'digital' 'divide' 'dr' 'drive' 'dubbed' 'early' 'encouraged' 'end'\n",
      " 'enterprise' 'equipped' 'ericsson' 'especially' 'europe' 'european'\n",
      " 'even' 'events' 'everyday' 'exactly' 'example' 'factor' 'far' 'faster'\n",
      " 'figure' 'film' 'firms' 'fit' 'fits' 'five' 'flop' 'focus' 'form'\n",
      " 'friends' 'funkier' 'get' 'going' 'good' 'governing' 'governs'\n",
      " 'gradually' 'groups' 'habits' 'handset' 'handsets' 'hardware' 'help'\n",
      " 'helps' 'historically' 'holidays' 'however' 'imply' 'industry'\n",
      " 'innovation' 'innovations' 'inside' 'instance' 'instead' 'interested'\n",
      " 'interviewed' 'japan' 'japanese' 'keen' 'keep' 'lab' 'language' 'least'\n",
      " 'lets' 'life' 'lifestyle' 'lifestyles' 'lives' 'make' 'maker' 'many'\n",
      " 'materialists' 'media' 'memory' 'message' 'messages' 'michael' 'mobile'\n",
      " 'moment' 'month' 'move' 'much' 'nations' 'new' 'news' 'number' 'numbers'\n",
      " 'often' 'older' 'onboard' 'one' 'owners' 'passed' 'patterns' 'people'\n",
      " 'person' 'phone' 'phonecam' 'phones' 'picture' 'pioneers' 'popular'\n",
      " 'possible' 'pushing' 'questioned' 'reflects' 'remain' 'replacing'\n",
      " 'reports' 'research' 'rise' 'rises' 'said' 'sake' 'saying' 'screen' 'see'\n",
      " 'seemed' 'seen' 'sell' 'send' 'senior' 'sheer' 'shown' 'shows'\n",
      " 'significant' 'similar' 'similarly' 'simple' 'size' 'slightly' 'sms'\n",
      " 'snap' 'snaps' 'speak' 'speed' 'start' 'starting' 'stop' 'study'\n",
      " 'suggests' 'take' 'taking' 'technologies' 'technology' 'tend' 'tends'\n",
      " 'text' 'things' 'told' 'took' 'touch' 'trends' 'tribes' 'try' 'trying'\n",
      " 'uk' 'usage' 'use' 'used' 'users' 'using' 'variety' 'way' 'ways'\n",
      " 'website' 'weddings' 'worrying' 'woven' 'writing' 'years' 'younger'\n",
      " 'youngsters']\n",
      "\n",
      "\n",
      "223\n",
      "Article: 2 has features \n",
      "['2003' 'alan' 'also' 'artist' 'artistic' 'arts' 'award' 'board' 'britain'\n",
      " 'british' 'campaigns' 'carrier' 'chairman' 'cinema' 'cited' 'commitment'\n",
      " 'commitments' 'commodity' 'contemporary' 'council' 'created' 'cultural'\n",
      " 'culture' 'david' 'de' 'death' 'decoration' 'director' 'distinguished'\n",
      " 'donnedieu' 'dreams' 'essential' 'explored' 'express' 'fame' 'film'\n",
      " 'films' 'flag' 'former' 'founding' 'france' 'french' 'gale' 'great'\n",
      " 'guild' 'highest' 'hollywood' 'honour' 'honoured' 'honours' 'immense'\n",
      " 'include' 'institute' 'kevin' 'letters' 'life' 'links' 'made' 'man'\n",
      " 'member' 'midnight' 'minister' 'mirror' 'modern' 'mr' 'occupies'\n",
      " 'officer' 'one' 'order' 'oscar' 'paris' 'parker' 'place' 'played' 'plus'\n",
      " 'possibilities' 'praised' 'presented' 'proof' 'question' 'received'\n",
      " 'renaud' 'row' 'said' 'saying' 'sentence' 'show' 'shown' 'sir' 'society'\n",
      " 'spacey' 'talent' 'throughout' 'thus' 'told' 'uk' 'us' 'uses' 'vabres'\n",
      " 'veritable' 'weave' 'wednesday' 'winning' 'work' 'world']\n",
      "\n",
      "\n",
      "105\n",
      "Article: 3 has features \n",
      "['12' '121' '165' '19' '1m' '2003' '23' '24' '26' '2m' '3m' '40' '44' '4m'\n",
      " '5m' '63' '6m' '796' '7m' '86' '8m' '9m' 'according' 'albert' 'alone'\n",
      " 'also' 'america' 'aviator' 'bad' 'barbra' 'ben' 'bill' 'blamed' 'blythe'\n",
      " 'box' 'business' 'chart' 'christmas' 'cinemas' 'co' 'comedy' 'compared'\n",
      " 'compiles' 'cosby' 'danner' 'day' 'de' 'december' 'dergarabedian'\n",
      " 'despite' 'dicaprio' 'dominated' 'dustin' 'entered' 'estimated'\n",
      " 'estimates' 'events' 'exhibitor' 'expanding' 'falling' 'falls' 'fat'\n",
      " 'festive' 'figures' 'film' 'films' 'fockers' 'fuel' 'highest' 'history'\n",
      " 'hoffman' 'howard' 'hughes' 'knocked' 'last' 'lemony' 'leonardo' 'lord'\n",
      " 'meet' 'new' 'niro' 'north' 'office' 'opening' 'parents' 'paul' 'place'\n",
      " 'president' 'record' 'relations' 'rings' 'robert' 'said' 'second'\n",
      " 'sequel' 'series' 'setting' 'snicket' 'starring' 'statistics' 'stiller'\n",
      " 'streisand' 'studio' 'success' 'taking' 'takings' 'third' 'took' 'top'\n",
      " 'topped' 'unfortunate' 'week' 'weekend' 'written' 'year']\n",
      "\n",
      "\n",
      "115\n",
      "Article: 4 has features \n",
      "['11' '12' '20' '2002' '2004' '2005' '28' 'area' 'attracted' 'attracting'\n",
      " 'audience' 'average' 'bbc' 'bbc1' 'bbc2' 'big' 'box' 'broadcaster'\n",
      " 'brother' 'celebrity' 'channel' 'channels' 'comedy' 'compared'\n",
      " 'comparison' 'continuing' 'currently' 'date' 'debut' 'decline'\n",
      " 'desperate' 'digital' 'drama' 'enabled' 'fell' 'first' 'five' 'freeview'\n",
      " 'growth' 'helped' 'hit' 'housewives' 'however' 'including' 'itv1'\n",
      " 'january' 'july' 'last' 'less' 'lift' 'main' 'managed' 'million' 'month'\n",
      " 'monthly' 'multi' 'one' 'ownership' 'point' 'portion' 'proportion' 'pull'\n",
      " 'quarter' 'ratings' 'remained' 'reporting' 'run' 'sales' 'seen' 'series'\n",
      " 'share' 'simpsons' 'since' 'slender' 'soared' 'stands' 'strongest'\n",
      " 'successes' 'surpass' 'television' 'tv' 'two' 'us' 'viewers' 'year']\n",
      "\n",
      "\n",
      "85\n",
      "Article: 5 has features \n",
      "['10' '12' '125' '17' '1978' '1979' '1980' '1985' '1987' '1991' '26th'\n",
      " '28' 'ability' 'according' 'achievements' 'achtung' 'across' 'adam'\n",
      " 'added' 'age' 'aid' 'aids' 'aim' 'album' 'albums' 'alone' 'also' 'alter'\n",
      " 'always' 'anthemic' 'appeal' 'appearance' 'around' 'atlantic'\n",
      " 'atmospheric' 'atomic' 'attention' 'attract' 'attracting' 'average'\n",
      " 'awards' 'baby' 'badly' 'band' 'bandmates' 'bands' 'bass' 'beatles'\n",
      " 'better' 'big' 'bigger' 'biggest' 'bloody' 'board' 'bolder' 'bomb' 'bono'\n",
      " 'born' 'boy' 'branches' 'breakthrough' 'brilliant' 'broke' 'brother'\n",
      " 'brought' 'building' 'calls' 'came' 'campaigner' 'cars' 'catsuit'\n",
      " 'cemented' 'challenge' 'challenged' 'challenges' 'charismatic' 'chart'\n",
      " 'charts' 'churning' 'clayton' 'cliche' 'climbing' 'clinging' 'coarse'\n",
      " 'comes' 'common' 'company' 'compelling' 'competitive' 'considerable'\n",
      " 'constantly' 'contest' 'continues' 'corresponding' 'craft' 'crucial'\n",
      " 'damn' 'dance' 'david' 'day' 'deal' 'debt' 'debut' 'decade' 'decisions'\n",
      " 'described' 'desire' 'determined' 'dick' 'different' 'dismantle'\n",
      " 'distinctive' 'done' 'dropped' 'drum' 'drummer' 'dublin' 'earned'\n",
      " 'echoed' 'edge' 'edginess' 'editor' 'eerie' 'egos' 'electric'\n",
      " 'electronic' 'eminem' 'end' 'enough' 'ensure' 'epic' 'equally' 'evans'\n",
      " 'ever' 'everything' 'exactly' 'explorations' 'extravagant' 'fact'\n",
      " 'featured' 'feedback' 'feet' 'fellow' 'filling' 'first' 'flag' 'fly'\n",
      " 'flying' 'followed' 'forays' 'force' 'form' 'formidable' 'found' 'four'\n",
      " 'generations' 'giant' 'giving' 'global' 'going' 'good' 'got' 'grammy'\n",
      " 'ground' 'groundbreaking' 'group' 'groups' 'guitar' 'height' 'hewson'\n",
      " 'high' 'highly' 'history' 'hit' 'hits' 'hold' 'house' 'hugely' 'hype'\n",
      " 'image' 'included' 'including' 'ingredient' 'inspired' 'intelligent'\n",
      " 'invented' 'ireland' 'island' 'issues' 'joshua' 'jr' 'keep' 'key'\n",
      " 'knocking' 'known' 'larry' 'later' 'leading' 'like' 'list' 'listen'\n",
      " 'live' 'looking' 'lost' 'macphisto' 'magazine' 'make' 'makes' 'manager'\n",
      " 'marked' 'mass' 'may' 'mcguinness' 'million' 'mr' 'mullen' 'music' 'must'\n",
      " 'name' 'national' 'new' 'none' 'notice' 'noticed' 'number' 'olives' 'one'\n",
      " 'onto' 'organised' 'parallel' 'paul' 'performances' 'performer'\n",
      " 'performers' 'perhaps' 'phone' 'piece' 'pinnacle' 'place' 'pleasure'\n",
      " 'plus' 'point' 'political' 'pop' 'popular' 'powerful' 'powers'\n",
      " 'prestigious' 'pretty' 'propelled' 'pupils' 'push' 'put' 'queen' 'radio'\n",
      " 'raw' 'reach' 'reached' 'recently' 'record' 'records' 'rees' 'rejected'\n",
      " 'release' 'released' 'rem' 'remain' 'reputation' 'retain' 'right' 'rock'\n",
      " 'rolling' 'said' 'sales' 'saw' 'school' 'schoolfriends' 'scouts'\n",
      " 'sealing' 'seen' 'sentiments' 'settling' 'several' 'shows' 'sides'\n",
      " 'simple' 'single' 'singles' 'sold' 'songs' 'soon' 'sound' 'spades'\n",
      " 'speaker' 'spiritual' 'spot' 'stadium' 'stage' 'stand' 'stardom' 'start'\n",
      " 'status' 'still' 'stones' 'stop' 'straight' 'strange' 'streets'\n",
      " 'struggled' 'stubbornly' 'success' 'sunday' 'talent' 'things' 'third'\n",
      " 'thought' 'three' 'throwing' 'time' 'together' 'took' 'top' 'topped'\n",
      " 'tours' 'transformation' 'tree' 'trying' 'two' 'u2' 'uk' 'us' 'vertigo'\n",
      " 'veteran' 'vocals' 'want' 'wanting' 'war' 'waving' 'way' 'went' 'white'\n",
      " 'whole' 'widely' 'wildly' 'without' 'world' 'year' 'yearned' 'years'\n",
      " 'youthful' 'zooropa']\n",
      "\n",
      "\n",
      "351\n"
     ]
    }
   ],
   "execution_count": 4
  },
  {
   "cell_type": "markdown",
   "id": "5d0c3297",
   "metadata": {},
   "source": [
    "### Task 1 B\n",
    "#### i) Top 50 Frequency plot"
   ]
  },
  {
   "cell_type": "code",
   "id": "5470ac61",
   "metadata": {
    "ExecuteTime": {
     "end_time": "2025-05-28T02:26:56.123784Z",
     "start_time": "2025-05-28T02:26:56.025402Z"
    }
   },
   "source": [
    "#Get the top 50 terms in the entire dataset\n",
    "indices_50 = whole_frequencies.argsort()[-50:][::-1] #Get the indices of the top 50 terms\n",
    "print(indices_50)\n",
    "\n",
    "top_50_features = whole_word_bank[indices_50] #Get the top 50 features\n",
    "top_50_feature_frequencies = whole_frequencies[indices_50] #Get the frequencies of the top 50 features\n",
    "\n",
    "print(\"Rank. word: frequency\")\n",
    "for i in range(top_50_features.size):\n",
    "    print(f\"{i+1}. {top_50_features[i]}: {top_50_feature_frequencies[i]}\") #Print the top 50 features and their frequencies\n",
    "\n",
    "#Now we can plot the top 50 features with their frequencies\n",
    "plt.plot()\n",
    "\n",
    "plt.plot([i+1 for i in range(50)], top_50_feature_frequencies, linestyle = ':', marker='o', color=\"r\", label=\"Data Point\")\n",
    "plt.xlabel('ith most frequent word')\n",
    "plt.ylabel(\"Frequency\")\n",
    "plt.legend()\n",
    "plt.title(\"Frequency of the fifty most frequent words in the dataset\")\n",
    "plt.show()"
   ],
   "outputs": [
    {
     "name": "stdout",
     "output_type": "stream",
     "text": [
      "[10567  8917  8257   859  8516  4899 13459  8108 12829  8069 13402  1610\n",
      "  3158  4962 12634  7939 11013 12285  7552  8399  7494 12090 12603 12835\n",
      "  7236  7856 13386  3748  7060 12616  8234  5317 12841 11254 13463  9010\n",
      "  5432 12352  1496 12836  2879 10876     1 13153 12238 13211  7459  8523\n",
      "  5309   193]\n",
      "Rank. word: frequency\n",
      "1. said: 1357\n",
      "2. people: 612\n",
      "3. new: 500\n",
      "4. also: 479\n",
      "5. one: 479\n",
      "6. film: 462\n",
      "7. year: 442\n",
      "8. music: 413\n",
      "9. us: 411\n",
      "10. mr: 408\n",
      "11. would: 374\n",
      "12. best: 361\n",
      "13. could: 322\n",
      "14. first: 306\n",
      "15. uk: 297\n",
      "16. mobile: 291\n",
      "17. show: 271\n",
      "18. time: 271\n",
      "19. many: 259\n",
      "20. number: 257\n",
      "21. make: 253\n",
      "22. technology: 250\n",
      "23. tv: 246\n",
      "24. use: 241\n",
      "25. like: 239\n",
      "26. million: 229\n",
      "27. world: 222\n",
      "28. digital: 221\n",
      "29. last: 220\n",
      "30. two: 217\n",
      "31. net: 216\n",
      "32. games: 216\n",
      "33. users: 214\n",
      "34. software: 213\n",
      "35. years: 212\n",
      "36. phone: 200\n",
      "37. get: 198\n",
      "38. top: 195\n",
      "39. bbc: 189\n",
      "40. used: 183\n",
      "41. computer: 180\n",
      "42. service: 180\n",
      "43. 000: 179\n",
      "44. way: 178\n",
      "45. three: 173\n",
      "46. well: 172\n",
      "47. made: 169\n",
      "48. online: 163\n",
      "49. game: 161\n",
      "50. 2004: 161\n"
     ]
    },
    {
     "data": {
      "text/plain": [
       "<Figure size 640x480 with 1 Axes>"
      ],
      "image/png": "[encoded data removed]"
     },
     "metadata": {},
     "output_type": "display_data"
    }
   ],
   "execution_count": 5
  },
  {
   "cell_type": "markdown",
   "id": "af9d565f",
   "metadata": {},
   "source": [
    "#### ii) Frequency distribution for features for each class"
   ]
  },
  {
   "cell_type": "code",
   "execution_count": null,
   "id": "5b54f1fd",
   "metadata": {},
   "outputs": [],
   "source": [
    "# code for task 1 b/ii"
   ]
  },
  {
   "cell_type": "markdown",
   "id": "a9241f1b",
   "metadata": {},
   "source": [
    "#### iii) Class distribution - plot frequency of classes."
   ]
  },
  {
   "cell_type": "code",
   "execution_count": null,
   "id": "5741f0f2",
   "metadata": {},
   "outputs": [],
   "source": [
    "# code for task 1 b/iii"
   ]
  },
  {
   "cell_type": "markdown",
   "id": "5544b044",
   "metadata": {},
   "source": [
    "## Task 2: Classification Models Learning\n",
    "### Task 2 A\n",
    "#### Naive Bayes Classifier\n",
    "#### i) Report top 20 most identifiable words that are most likely to occur in the articles over two classes"
   ]
  },
  {
   "cell_type": "code",
   "id": "8b6fe009",
   "metadata": {
    "ExecuteTime": {
     "end_time": "2025-05-28T02:31:54.796406Z",
     "start_time": "2025-05-28T02:31:54.776235Z"
    }
   },
   "source": [
    "from sklearn.naive_bayes import MultinomialNB\n",
    "\n",
    "\n",
    "X = whole_matrix\n",
    "y = train_df['Category'] \n",
    "nb_classifier = MultinomialNB()\n",
    "nb_classifier.fit(X, y)\n",
    "log_probs = nb_classifier.feature_log_prob_\n",
    "probs = np.exp(log_probs)\n",
    "words_entertainment = np.argsort(probs[0])[::-1][:20]\n",
    "words_tech = np.argsort(probs[1])[::-1][:20]\n",
    "\n",
    "print(\"Top 20 words for entertaiment:\")\n",
    "print(whole_word_bank[words_entertainment])\n",
    "\n",
    "print(\"\\nTop 20 words for tech:\")\n",
    "print(whole_word_bank[words_tech])\n"
   ],
   "outputs": [
    {
     "name": "stdout",
     "output_type": "stream",
     "text": [
      "Top 20 words for entertaiment:\n",
      "['said' 'film' 'best' 'year' 'music' 'also' 'us' 'new' 'one' 'show'\n",
      " 'first' 'awards' 'tv' 'last' 'uk' 'actor' 'number' 'band' 'mr' 'star']\n",
      "\n",
      "Top 20 words for tech:\n",
      "['said' 'people' 'new' 'mobile' 'mr' 'one' 'also' 'would' 'could'\n",
      " 'technology' 'use' 'users' 'net' 'software' 'games' 'us' 'music' 'many'\n",
      " 'year' 'phone']\n"
     ]
    }
   ],
   "execution_count": 8
  },
  {
   "cell_type": "markdown",
   "id": "57301fec",
   "metadata": {},
   "source": [
    "#### ii) Report the top 20 words that maximise the the probability quantity P(Xw = 1|Y = y)/P(Xw = 1| Y != y). Which list of words describe the 2 classes better?"
   ]
  },
  {
   "cell_type": "code",
   "id": "5399c069",
   "metadata": {
    "ExecuteTime": {
     "end_time": "2025-05-28T02:31:57.235208Z",
     "start_time": "2025-05-28T02:31:57.230201Z"
    }
   },
   "source": [
    "ratio_entertainment = probs[0] / (probs[1])\n",
    "top_20_ratio_idx_0 = np.argsort(ratio_entertainment)[::-1][:20]\n",
    "\n",
    "print(\"Top 20 discriminative words for entertainment:\")\n",
    "print(whole_word_bank[top_20_ratio_idx_0])\n",
    "ratio_tech = probs[1] / (probs[0])\n",
    "top_20_ratio_idx_1 = np.argsort(ratio_tech)[::-1][:20]\n",
    "\n",
    "print(\"Top 20 discriminative words for tech:\")\n",
    "print(whole_word_bank[top_20_ratio_idx_1])\n"
   ],
   "outputs": [
    {
     "name": "stdout",
     "output_type": "stream",
     "text": [
      "Top 20 discriminative words for entertainment:\n",
      "['actress' 'singer' 'oscar' 'stars' 'aviator' 'band' 'nominated' 'rock'\n",
      " 'festival' 'album' 'nominations' 'charles' 'chart' 'foxx' 'oscars'\n",
      " 'starring' 'singles' 'jamie' 'swank' 'comedy']\n",
      "Top 20 discriminative words for tech:\n",
      "['users' 'software' 'microsoft' 'mobile' 'broadband' 'virus' 'firms' 'pc'\n",
      " 'spam' 'phones' 'gadget' 'net' 'consumer' 'mobiles' 'machines' 'gadgets'\n",
      " 'windows' 'technologies' 'systems' 'device']\n"
     ]
    }
   ],
   "execution_count": 9
  },
  {
   "cell_type": "markdown",
   "id": "fc9aa1fc",
   "metadata": {},
   "source": [
    "### Task 2 B\n",
    "#### K-Nearest Neighbours Classifier\n",
    "#### Report surface plot of the kNN with your choice of hyperparameters k and distance metric. Explain the impact of k and the distance metric on the decision boundary."
   ]
  },
  {
   "cell_type": "code",
   "execution_count": null,
   "id": "86c73293",
   "metadata": {},
   "outputs": [],
   "source": [
    "# code for task 2 b\n",
    "# for surface plots check note on assignment pdf at bottom of task 2"
   ]
  },
  {
   "cell_type": "markdown",
   "id": "0f513425",
   "metadata": {},
   "source": [
    "### Task 2 C\n",
    "#### Support Vector Machines\n",
    "#### i) Soft margin linear kernel SVM\n",
    "#### Report surface plot and explain the impact of the penalty C hyperparameter"
   ]
  },
  {
   "cell_type": "code",
   "execution_count": null,
   "id": "2d0b4d55",
   "metadata": {},
   "outputs": [],
   "source": [
    "# code for task 2 C soft margin linear kernel svm\n",
    "# for surface plots check note on assignment pdf at bottom of task 2"
   ]
  },
  {
   "cell_type": "markdown",
   "id": "122f3b2d",
   "metadata": {},
   "source": [
    "#### ii) Hard margin RBF kernel SVM\n",
    "#### Report surface plot and explain the impact of the kernel width hyperparameter"
   ]
  },
  {
   "cell_type": "code",
   "execution_count": null,
   "id": "ff9110cf",
   "metadata": {},
   "outputs": [],
   "source": [
    "# code for task 2 C hard margin rbf kernel svm\n",
    "# for surface plots check note on assignment pdf at bottom of task 2"
   ]
  },
  {
   "cell_type": "markdown",
   "id": "c8095514",
   "metadata": {},
   "source": [
    "### Task 2 D\n",
    "#### Neural Network\n",
    "#### add more details later"
   ]
  },
  {
   "cell_type": "code",
   "execution_count": null,
   "id": "3f0afb77",
   "metadata": {},
   "outputs": [],
   "source": [
    "# code for task 2 D neural network"
   ]
  }
 ],
 "metadata": {
  "kernelspec": {
   "display_name": "base",
   "language": "python",
   "name": "python3"
  },
  "language_info": {
   "codemirror_mode": {
    "name": "ipython",
    "version": 3
   },
   "file_extension": ".py",
   "mimetype": "text/x-python",
   "name": "python",
   "nbconvert_exporter": "python",
   "pygments_lexer": "ipython3",
   "version": "3.12.7"
  }
 },
 "nbformat": 4,
 "nbformat_minor": 5
}
